{
 "cells": [
  {
   "cell_type": "markdown",
   "metadata": {},
   "source": [
    "**This notebook is an exercise in the [Python](https://www.kaggle.com/learn/python) course.  You can reference the tutorial at [this link](https://www.kaggle.com/colinmorris/loops-and-list-comprehensions).**\n",
    "\n",
    "---\n"
   ]
  },
  {
   "cell_type": "markdown",
   "metadata": {},
   "source": [
    "With all you've learned, you can start writing much more interesting programs. See if you can solve the problems below.\n",
    "\n",
    "As always, run the setup code below before working on the questions."
   ]
  },
  {
   "cell_type": "code",
   "execution_count": null,
   "metadata": {
    "execution": {
     "iopub.execute_input": "2021-09-16T14:58:58.376777Z",
     "iopub.status.busy": "2021-09-16T14:58:58.375958Z",
     "iopub.status.idle": "2021-09-16T14:58:58.407451Z",
     "shell.execute_reply": "2021-09-16T14:58:58.406859Z",
     "shell.execute_reply.started": "2021-09-16T14:58:58.376738Z"
    }
   },
   "outputs": [],
   "source": [
    "from learntools.core import binder; binder.bind(globals())\n",
    "from learntools.python.ex5 import *\n",
    "print('Setup complete.')"
   ]
  },
  {
   "cell_type": "markdown",
   "metadata": {},
   "source": [
    "# 1.\n",
    "\n",
    "Have you ever felt debugging involved a bit of luck? The following program has a bug. Try to identify the bug and fix it."
   ]
  },
  {
   "cell_type": "code",
   "execution_count": 1,
   "metadata": {
    "execution": {
     "iopub.execute_input": "2021-09-16T14:59:05.189777Z",
     "iopub.status.busy": "2021-09-16T14:59:05.189173Z",
     "iopub.status.idle": "2021-09-16T14:59:05.19575Z",
     "shell.execute_reply": "2021-09-16T14:59:05.194725Z",
     "shell.execute_reply.started": "2021-09-16T14:59:05.189723Z"
    }
   },
   "outputs": [
    {
     "name": "stdout",
     "output_type": "stream",
     "text": [
      "True\n"
     ]
    }
   ],
   "source": [
    "def has_lucky_number(nums):\n",
    "    \"\"\"Return whether the given list of numbers is lucky. A lucky list contains\n",
    "    at least one number divisible by 7.\n",
    "    \"\"\"\n",
    "    for num in nums:\n",
    "        if num % 7 == 0:\n",
    "            return True\n",
    "        else:\n",
    "            return False\n",
    "print(has_lucky_number([0, 14, 3, 7]))"
   ]
  },
  {
   "cell_type": "markdown",
   "metadata": {},
   "source": [
    "Try to identify the bug and fix it in the cell below:"
   ]
  },
  {
   "cell_type": "code",
   "execution_count": 2,
   "metadata": {
    "execution": {
     "iopub.execute_input": "2021-09-16T14:59:28.840851Z",
     "iopub.status.busy": "2021-09-16T14:59:28.840354Z",
     "iopub.status.idle": "2021-09-16T14:59:28.851852Z",
     "shell.execute_reply": "2021-09-16T14:59:28.850917Z",
     "shell.execute_reply.started": "2021-09-16T14:59:28.840817Z"
    }
   },
   "outputs": [
    {
     "name": "stdout",
     "output_type": "stream",
     "text": [
      "True\n"
     ]
    }
   ],
   "source": [
    "def has_lucky_number(nums):\n",
    "    \"\"\"Return whether the given list of numbers is lucky. A lucky list contains\n",
    "    at least one number divisible by 7.\n",
    "    \"\"\"\n",
    "    #Sem usar List Comprehesion\n",
    "    if nums == []:\n",
    "      return False\n",
    "    else:\n",
    "      seven_divisable = 0\n",
    "      for num in nums:\n",
    "          if num % 7 == 0:\n",
    "              seven_divisable+=1\n",
    "          else:\n",
    "              seven_divisable+=0\n",
    "      if seven_divisable > 0:\n",
    "        return True\n",
    "      else:\n",
    "        return False\n",
    "\n",
    "# Check your answer\n",
    "print(has_lucky_number([0, 14, 3, 7]))"
   ]
  },
  {
   "cell_type": "code",
   "execution_count": null,
   "metadata": {},
   "outputs": [],
   "source": [
    "#q1.hint()\n",
    "#q1.solution()"
   ]
  },
  {
   "cell_type": "markdown",
   "metadata": {},
   "source": [
    "# 2.\n",
    "Look at the Python expression below. What do you think we'll get when we run it? When you've made your prediction, uncomment the code and run the cell to see if you were right."
   ]
  },
  {
   "cell_type": "code",
   "execution_count": null,
   "metadata": {
    "execution": {
     "iopub.execute_input": "2021-09-16T12:25:30.978104Z",
     "iopub.status.busy": "2021-09-16T12:25:30.977034Z",
     "iopub.status.idle": "2021-09-16T12:25:31.052681Z",
     "shell.execute_reply": "2021-09-16T12:25:31.051307Z",
     "shell.execute_reply.started": "2021-09-16T12:25:30.978052Z"
    }
   },
   "outputs": [],
   "source": [
    "[1, 2, 3, 4] > 2"
   ]
  },
  {
   "cell_type": "markdown",
   "metadata": {},
   "source": [
    "R and Python have some libraries (like numpy and pandas) compare each element of the list to 2 (i.e. do an 'element-wise' comparison) and give us a list of booleans like `[False, False, True, True]`. \n",
    "\n",
    "Implement a function that reproduces this behaviour, returning a list of booleans corresponding to whether the corresponding element is greater than n."
   ]
  },
  {
   "cell_type": "code",
   "execution_count": 3,
   "metadata": {
    "execution": {
     "iopub.execute_input": "2021-09-16T14:59:35.012902Z",
     "iopub.status.busy": "2021-09-16T14:59:35.011943Z",
     "iopub.status.idle": "2021-09-16T14:59:35.022021Z",
     "shell.execute_reply": "2021-09-16T14:59:35.020712Z",
     "shell.execute_reply.started": "2021-09-16T14:59:35.012843Z"
    }
   },
   "outputs": [
    {
     "name": "stdout",
     "output_type": "stream",
     "text": [
      "[False, False, True, True]\n"
     ]
    }
   ],
   "source": [
    "def elementwise_greater_than(L, thresh):\n",
    "    \"\"\"Return a list with the same length as L, where the value at index i is \n",
    "    True if L[i] is greater than thresh, and False otherwise.\n",
    "    \n",
    "    >>> elementwise_greater_than([1, 2, 3, 4], 2)\n",
    "    [False, False, True, True]\n",
    "    \"\"\"\n",
    "    return [True if x > thresh else False for x in L]\n",
    "    pass\n",
    "\n",
    "# Check your answer\n",
    "print(elementwise_greater_than([1, 2, 3, 4], 2))"
   ]
  },
  {
   "cell_type": "code",
   "execution_count": null,
   "metadata": {},
   "outputs": [],
   "source": [
    "#q2.solution()"
   ]
  },
  {
   "cell_type": "markdown",
   "metadata": {},
   "source": [
    "# 3.\n",
    "\n",
    "Complete the body of the function below according to its docstring."
   ]
  },
  {
   "cell_type": "code",
   "execution_count": null,
   "metadata": {
    "execution": {
     "iopub.execute_input": "2021-09-16T14:59:42.627843Z",
     "iopub.status.busy": "2021-09-16T14:59:42.627499Z",
     "iopub.status.idle": "2021-09-16T14:59:42.637795Z",
     "shell.execute_reply": "2021-09-16T14:59:42.636917Z",
     "shell.execute_reply.started": "2021-09-16T14:59:42.62781Z"
    }
   },
   "outputs": [],
   "source": [
    "def menu_is_boring(meals):\n",
    "    \"\"\"Given a list of meals served over some period of time, return True if the\n",
    "    same meal has ever been served two days in a row, and False otherwise.\n",
    "    \"\"\"\n",
    "    for index in range(len(meals)-1):\n",
    "        if meals[index] == meals[index+1]:\n",
    "            return True\n",
    "    return False\n",
    "\n",
    "   \n",
    "\n",
    "# Check your answer\n",
    "print(menu_is_boring(['L', '']))"
   ]
  },
  {
   "cell_type": "code",
   "execution_count": null,
   "metadata": {
    "execution": {
     "iopub.execute_input": "2021-09-16T12:59:13.285502Z",
     "iopub.status.busy": "2021-09-16T12:59:13.285013Z",
     "iopub.status.idle": "2021-09-16T12:59:13.303197Z",
     "shell.execute_reply": "2021-09-16T12:59:13.302245Z",
     "shell.execute_reply.started": "2021-09-16T12:59:13.285468Z"
    }
   },
   "outputs": [],
   "source": [
    "q3.hint()\n",
    "#q3.solution()"
   ]
  },
  {
   "cell_type": "markdown",
   "metadata": {},
   "source": [
    "# 4. <span title=\"A bit spicy\" style=\"color: darkgreen \">🌶️</span>\n",
    "\n",
    "Next to the Blackjack table, the Python Challenge Casino has a slot machine. You can get a result from the slot machine by calling `play_slot_machine()`. The number it returns is your winnings in dollars. Usually it returns 0.  But sometimes you'll get lucky and get a big payday. Try running it below:"
   ]
  },
  {
   "cell_type": "code",
   "execution_count": null,
   "metadata": {
    "execution": {
     "iopub.execute_input": "2021-09-16T13:01:02.477079Z",
     "iopub.status.busy": "2021-09-16T13:01:02.476658Z",
     "iopub.status.idle": "2021-09-16T13:01:02.503758Z",
     "shell.execute_reply": "2021-09-16T13:01:02.502239Z",
     "shell.execute_reply.started": "2021-09-16T13:01:02.477036Z"
    }
   },
   "outputs": [],
   "source": [
    "play_slot_machine()"
   ]
  },
  {
   "cell_type": "markdown",
   "metadata": {},
   "source": [
    "By the way, did we mention that each play costs $1? Don't worry, we'll send you the bill later.\n",
    "\n",
    "On average, how much money can you expect to gain (or lose) every time you play the machine?  The casino keeps it a secret, but you can estimate the average value of each pull using a technique called the **Monte Carlo method**. To estimate the average outcome, we simulate the scenario many times, and return the average result.\n",
    "\n",
    "Complete the following function to calculate the average value per play of the slot machine."
   ]
  },
  {
   "cell_type": "code",
   "execution_count": null,
   "metadata": {},
   "outputs": [],
   "source": [
    "def estimate_average_slot_payout(n_runs):\n",
    "    \"\"\"Run the slot machine n_runs times and return the average net profit per run.\n",
    "    Example calls (note that return value is nondeterministic!):\n",
    "    >>> estimate_average_slot_payout(1)\n",
    "    -1\n",
    "    >>> estimate_average_slot_payout(1)\n",
    "    0.5\n",
    "    \"\"\"\n",
    "    pass"
   ]
  },
  {
   "cell_type": "markdown",
   "metadata": {},
   "source": [
    "When you think you know the expected value per spin, run the code cell below to view the solution and get credit for answering the question."
   ]
  },
  {
   "cell_type": "code",
   "execution_count": null,
   "metadata": {},
   "outputs": [],
   "source": [
    "# Check your answer (Run this code cell to receive credit!)\n",
    "q4.solution()"
   ]
  },
  {
   "cell_type": "markdown",
   "metadata": {},
   "source": [
    "# Keep Going\n",
    "\n",
    "Many programmers report that dictionaries are their favorite data structure. You'll get to **[learn about them](https://www.kaggle.com/colinmorris/strings-and-dictionaries)** (as well as strings) in the next lesson."
   ]
  }
 ],
 "metadata": {
  "kernelspec": {
   "display_name": "Python 3",
   "language": "python",
   "name": "python3"
  },
  "language_info": {
   "codemirror_mode": {
    "name": "ipython",
    "version": 3
   },
   "file_extension": ".py",
   "mimetype": "text/x-python",
   "name": "python",
   "nbconvert_exporter": "python",
   "pygments_lexer": "ipython3",
   "version": "3.8.5"
  }
 },
 "nbformat": 4,
 "nbformat_minor": 4
}
