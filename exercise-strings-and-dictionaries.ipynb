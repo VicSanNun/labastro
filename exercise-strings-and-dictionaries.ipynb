{
 "cells": [
  {
   "cell_type": "markdown",
   "metadata": {},
   "source": [
    "**This notebook is an exercise in the [Python](https://www.kaggle.com/learn/python) course.  You can reference the tutorial at [this link](https://www.kaggle.com/colinmorris/strings-and-dictionaries).**\n",
    "\n",
    "---\n"
   ]
  },
  {
   "cell_type": "markdown",
   "metadata": {},
   "source": [
    "You are almost done with the course. Nice job!\n",
    "\n",
    "We have a couple more interesting problems for you before you go. \n",
    "\n",
    "As always, run the setup code below before working on the questions."
   ]
  },
  {
   "cell_type": "code",
   "execution_count": null,
   "metadata": {
    "execution": {
     "iopub.execute_input": "2021-09-16T13:03:25.82321Z",
     "iopub.status.busy": "2021-09-16T13:03:25.822779Z",
     "iopub.status.idle": "2021-09-16T13:03:25.877876Z",
     "shell.execute_reply": "2021-09-16T13:03:25.876913Z",
     "shell.execute_reply.started": "2021-09-16T13:03:25.823103Z"
    }
   },
   "outputs": [],
   "source": [
    "from learntools.core import binder; binder.bind(globals())\n",
    "from learntools.python.ex6 import *\n",
    "print('Setup complete.')"
   ]
  },
  {
   "cell_type": "markdown",
   "metadata": {},
   "source": [
    "Let's start with a string lightning round to warm up. What are the lengths of the strings below?\n",
    "\n",
    "For each of the five strings below, predict what `len()` would return when passed that string. Use the variable `length` to record your answer, then run the cell to check whether you were right.  \n",
    "\n",
    "# 0a."
   ]
  },
  {
   "cell_type": "code",
   "execution_count": null,
   "metadata": {
    "execution": {
     "iopub.execute_input": "2021-09-16T13:04:00.223399Z",
     "iopub.status.busy": "2021-09-16T13:04:00.223027Z",
     "iopub.status.idle": "2021-09-16T13:04:00.235582Z",
     "shell.execute_reply": "2021-09-16T13:04:00.234685Z",
     "shell.execute_reply.started": "2021-09-16T13:04:00.223369Z"
    }
   },
   "outputs": [],
   "source": [
    "a = \"\"\n",
    "length = 0\n",
    "q0.a.check()"
   ]
  },
  {
   "cell_type": "markdown",
   "metadata": {},
   "source": [
    "# 0b."
   ]
  },
  {
   "cell_type": "code",
   "execution_count": null,
   "metadata": {
    "execution": {
     "iopub.execute_input": "2021-09-16T13:04:28.586317Z",
     "iopub.status.busy": "2021-09-16T13:04:28.585481Z",
     "iopub.status.idle": "2021-09-16T13:04:28.59575Z",
     "shell.execute_reply": "2021-09-16T13:04:28.595075Z",
     "shell.execute_reply.started": "2021-09-16T13:04:28.586273Z"
    }
   },
   "outputs": [],
   "source": [
    "b = \"it's ok\"\n",
    "length = 7\n",
    "q0.b.check()"
   ]
  },
  {
   "cell_type": "markdown",
   "metadata": {},
   "source": [
    "# 0c."
   ]
  },
  {
   "cell_type": "code",
   "execution_count": null,
   "metadata": {
    "execution": {
     "iopub.execute_input": "2021-09-16T13:05:02.204643Z",
     "iopub.status.busy": "2021-09-16T13:05:02.203518Z",
     "iopub.status.idle": "2021-09-16T13:05:02.214317Z",
     "shell.execute_reply": "2021-09-16T13:05:02.213307Z",
     "shell.execute_reply.started": "2021-09-16T13:05:02.204583Z"
    }
   },
   "outputs": [],
   "source": [
    "c = 'it\\'s ok'\n",
    "length = 7\n",
    "q0.c.check()"
   ]
  },
  {
   "cell_type": "markdown",
   "metadata": {},
   "source": [
    "# 0d."
   ]
  },
  {
   "cell_type": "code",
   "execution_count": null,
   "metadata": {
    "execution": {
     "iopub.execute_input": "2021-09-16T13:05:12.721785Z",
     "iopub.status.busy": "2021-09-16T13:05:12.721415Z",
     "iopub.status.idle": "2021-09-16T13:05:12.731926Z",
     "shell.execute_reply": "2021-09-16T13:05:12.730959Z",
     "shell.execute_reply.started": "2021-09-16T13:05:12.72175Z"
    }
   },
   "outputs": [],
   "source": [
    "d = \"\"\"hey\"\"\"\n",
    "length = 3\n",
    "q0.d.check()"
   ]
  },
  {
   "cell_type": "markdown",
   "metadata": {},
   "source": [
    "# 0e."
   ]
  },
  {
   "cell_type": "code",
   "execution_count": null,
   "metadata": {
    "execution": {
     "iopub.execute_input": "2021-09-16T13:05:37.83731Z",
     "iopub.status.busy": "2021-09-16T13:05:37.836937Z",
     "iopub.status.idle": "2021-09-16T13:05:37.846735Z",
     "shell.execute_reply": "2021-09-16T13:05:37.846152Z",
     "shell.execute_reply.started": "2021-09-16T13:05:37.837272Z"
    }
   },
   "outputs": [],
   "source": [
    "e = '\\n'\n",
    "length = 1\n",
    "q0.e.check()"
   ]
  },
  {
   "cell_type": "markdown",
   "metadata": {},
   "source": [
    "# 1.\n",
    "\n",
    "There is a saying that \"Data scientists spend 80% of their time cleaning data, and 20% of their time complaining about cleaning data.\" Let's see if you can write a function to help clean US zip code data. Given a string, it should return whether or not that string represents a valid zip code. For our purposes, a valid zip code is any string consisting of exactly 5 digits.\n",
    "\n",
    "HINT: `str` has a method that will be useful here. Use `help(str)` to review a list of string methods."
   ]
  },
  {
   "cell_type": "code",
   "execution_count": null,
   "metadata": {
    "execution": {
     "iopub.execute_input": "2021-09-16T13:12:14.839031Z",
     "iopub.status.busy": "2021-09-16T13:12:14.83855Z",
     "iopub.status.idle": "2021-09-16T13:12:14.84814Z",
     "shell.execute_reply": "2021-09-16T13:12:14.847308Z",
     "shell.execute_reply.started": "2021-09-16T13:12:14.838998Z"
    }
   },
   "outputs": [],
   "source": [
    "def is_valid_zip(zip_code):\n",
    "    \"\"\"Returns whether the input string is a valid (5 digit) zip code\n",
    "    \"\"\"\n",
    "    if len(zip_code) == 5 and zip_code.isdigit(): \n",
    "        return True\n",
    "    else:\n",
    "        return False\n",
    "\n",
    "# Check your answer\n",
    "q1.check()"
   ]
  },
  {
   "cell_type": "code",
   "execution_count": null,
   "metadata": {
    "execution": {
     "iopub.execute_input": "2021-09-16T13:12:17.929302Z",
     "iopub.status.busy": "2021-09-16T13:12:17.92837Z",
     "iopub.status.idle": "2021-09-16T13:12:17.932766Z",
     "shell.execute_reply": "2021-09-16T13:12:17.931818Z",
     "shell.execute_reply.started": "2021-09-16T13:12:17.929245Z"
    }
   },
   "outputs": [],
   "source": [
    "#q1.hint()\n",
    "#q1.solution()"
   ]
  },
  {
   "cell_type": "markdown",
   "metadata": {},
   "source": [
    "# 2.\n",
    "\n",
    "A researcher has gathered thousands of news articles. But she wants to focus her attention on articles including a specific word. Complete the function below to help her filter her list of articles.\n",
    "\n",
    "Your function should meet the following criteria:\n",
    "\n",
    "- Do not include documents where the keyword string shows up only as a part of a larger word. For example, if she were looking for the keyword “closed”, you would not include the string “enclosed.” \n",
    "- She does not want you to distinguish upper case from lower case letters. So the phrase “Closed the case.” would be included when the keyword is “closed”\n",
    "- Do not let periods or commas affect what is matched. “It is closed.” would be included when the keyword is “closed”. But you can assume there are no other types of punctuation."
   ]
  },
  {
   "cell_type": "code",
   "execution_count": null,
   "metadata": {
    "execution": {
     "iopub.execute_input": "2021-09-16T13:26:30.743798Z",
     "iopub.status.busy": "2021-09-16T13:26:30.743304Z",
     "iopub.status.idle": "2021-09-16T13:26:30.753389Z",
     "shell.execute_reply": "2021-09-16T13:26:30.75262Z",
     "shell.execute_reply.started": "2021-09-16T13:26:30.743768Z"
    }
   },
   "outputs": [],
   "source": [
    "def word_search(doc_list, keyword):\n",
    "    \"\"\"\n",
    "    Takes a list of documents (each document is a string) and a keyword. \n",
    "    Returns list of the index values into the original list for all documents \n",
    "    containing the keyword.\n",
    "\n",
    "    Example:\n",
    "    doc_list = [\"The Learn Python Challenge Casino.\", \"They bought a car\", \"Casinoville\"]\n",
    "    >>> word_search(doc_list, 'casino')\n",
    "    >>> [0]\n",
    "    \"\"\"\n",
    "    a = [] \n",
    "    for i, x in enumerate(doc_list):\n",
    "        els = x.split()\n",
    "        normalized = [el.rstrip('.,').lower() for el in els]\n",
    "        if keyword.lower() in normalized:\n",
    "            a.append(i)\n",
    "    return a\n",
    "\n",
    "# Check your answer\n",
    "q2.check()"
   ]
  },
  {
   "cell_type": "code",
   "execution_count": null,
   "metadata": {
    "execution": {
     "iopub.execute_input": "2021-09-16T13:26:00.023611Z",
     "iopub.status.busy": "2021-09-16T13:26:00.022604Z",
     "iopub.status.idle": "2021-09-16T13:26:00.027611Z",
     "shell.execute_reply": "2021-09-16T13:26:00.026627Z",
     "shell.execute_reply.started": "2021-09-16T13:26:00.023553Z"
    }
   },
   "outputs": [],
   "source": [
    "#q2.hint()\n",
    "#q2.solution()"
   ]
  },
  {
   "cell_type": "markdown",
   "metadata": {},
   "source": [
    "# 3.\n",
    "\n",
    "Now the researcher wants to supply multiple keywords to search for. Complete the function below to help her.\n",
    "\n",
    "(You're encouraged to use the `word_search` function you just wrote when implementing this function. Reusing code in this way makes your programs more robust and readable - and it saves typing!)"
   ]
  },
  {
   "cell_type": "code",
   "execution_count": null,
   "metadata": {},
   "outputs": [],
   "source": [
    "def multi_word_search(doc_list, keywords):\n",
    "    \"\"\"\n",
    "    Takes list of documents (each document is a string) and a list of keywords.  \n",
    "    Returns a dictionary where each key is a keyword, and the value is a list of indices\n",
    "    (from doc_list) of the documents containing that keyword\n",
    "\n",
    "    >>> doc_list = [\"The Learn Python Challenge Casino.\", \"They bought a car and a casino\", \"Casinoville\"]\n",
    "    >>> keywords = ['casino', 'they']\n",
    "    >>> multi_word_search(doc_list, keywords)\n",
    "    {'casino': [0, 1], 'they': [1]}\n",
    "    \"\"\"\n",
    "    pass\n",
    "\n",
    "# Check your answer\n",
    "q3.check()"
   ]
  },
  {
   "cell_type": "code",
   "execution_count": null,
   "metadata": {},
   "outputs": [],
   "source": [
    "#q3.solution()"
   ]
  },
  {
   "cell_type": "markdown",
   "metadata": {},
   "source": [
    "# Keep Going\n",
    "\n",
    "You've learned a lot. But even the best programmers rely heavily on \"libraries\" of code from other programmers. You'll learn about that in **[the last lesson](https://www.kaggle.com/colinmorris/working-with-external-libraries)**.\n"
   ]
  }
 ],
 "metadata": {
  "kernelspec": {
   "display_name": "Python 3",
   "language": "python",
   "name": "python3"
  },
  "language_info": {
   "codemirror_mode": {
    "name": "ipython",
    "version": 3
   },
   "file_extension": ".py",
   "mimetype": "text/x-python",
   "name": "python",
   "nbconvert_exporter": "python",
   "pygments_lexer": "ipython3",
   "version": "3.8.5"
  }
 },
 "nbformat": 4,
 "nbformat_minor": 4
}
