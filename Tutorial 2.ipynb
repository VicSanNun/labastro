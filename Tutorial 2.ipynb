{
 "cells": [
  {
   "cell_type": "markdown",
   "id": "0ae0bb8e",
   "metadata": {},
   "source": [
    "# Tutorial 2"
   ]
  },
  {
   "cell_type": "markdown",
   "id": "65003900",
   "metadata": {},
   "source": [
    "## 1. Complete the body of the following function according to its docstring.\n",
    "\n",
    "### HINT: Python has a built-in function round."
   ]
  },
  {
   "cell_type": "code",
   "execution_count": 1,
   "id": "b719ffdb",
   "metadata": {},
   "outputs": [
    {
     "name": "stdout",
     "output_type": "stream",
     "text": [
      "3.14\n"
     ]
    }
   ],
   "source": [
    "def round_to_two_places(num):\n",
    "    \"\"\"Return the given number rounded to two decimal places. \n",
    "    \n",
    "    >>> round_to_two_places(3.14159)\n",
    "    3.14\n",
    "    \"\"\"\n",
    "    return round(float(num), 2)\n",
    "    # Replace this body with your own code.\n",
    "    # (\"pass\" is a keyword that does literally nothing. We used it as a placeholder\n",
    "    # because after we begin a code block, Python requires at least one line of code)\n",
    "\n",
    "# Check your answer\n",
    "print(round_to_two_places(3.14159))"
   ]
  },
  {
   "cell_type": "markdown",
   "id": "c0291846",
   "metadata": {},
   "source": [
    "## 2. The help for round says that ndigits (the second argument) may be negative. What do you think will happen when it is? Try some examples in the following cellq"
   ]
  },
  {
   "cell_type": "code",
   "execution_count": 8,
   "id": "1c5b9cf1",
   "metadata": {},
   "outputs": [
    {
     "name": "stdout",
     "output_type": "stream",
     "text": [
      "310.0\n",
      "320.0\n",
      "300.0\n"
     ]
    }
   ],
   "source": [
    "print(round(314.15169, -1))\n",
    "print(round(316.15169, -1))\n",
    "print(round(314.15169, -2))"
   ]
  },
  {
   "cell_type": "markdown",
   "id": "99fb9f8b",
   "metadata": {},
   "source": [
    "Quando coloco -1 no segundo argumento, ele arredonda para a **dezena** mais próxima. Quando colocamos -2 ele arredonda para **centena** mais próxima."
   ]
  },
  {
   "cell_type": "markdown",
   "id": "b7aa8a8c",
   "metadata": {},
   "source": [
    "## 3. In the previous exercise, the candy-sharing friends Alice, Bob and Carol tried to split candies evenly. For the sake of their friendship, any candies left over would be smashed. For example, if they collectively bring home 91 candies, they'll take 30 each and smash 1. Below is a simple function that will calculate the number of candies to smash for any number of total candies. Modify it so that it optionally takes a second argument representing the number of friends the candies are being split between. If no second argument is provided, it should assume 3 friends, as before. Update the docstring to reflect this new behaviour."
   ]
  },
  {
   "cell_type": "code",
   "execution_count": 10,
   "id": "d9b7744b",
   "metadata": {},
   "outputs": [
    {
     "name": "stdout",
     "output_type": "stream",
     "text": [
      "3\n",
      "2\n"
     ]
    }
   ],
   "source": [
    "def to_smash(total_candies, friends=3):\n",
    "    \"\"\"Return the number of leftover candies that must be smashed after distributing\n",
    "    the given number of candies evenly between 3 friends.\n",
    "    \n",
    "    >>> to_smash(91)\n",
    "    1\n",
    "    \"\"\"\n",
    "    return total_candies % friends\n",
    "\n",
    "# Check your answer\n",
    "print(to_smash(23, 4))\n",
    "print(to_smash(23))"
   ]
  }
 ],
 "metadata": {
  "kernelspec": {
   "display_name": "Python 3",
   "language": "python",
   "name": "python3"
  },
  "language_info": {
   "codemirror_mode": {
    "name": "ipython",
    "version": 3
   },
   "file_extension": ".py",
   "mimetype": "text/x-python",
   "name": "python",
   "nbconvert_exporter": "python",
   "pygments_lexer": "ipython3",
   "version": "3.8.5"
  }
 },
 "nbformat": 4,
 "nbformat_minor": 5
}
